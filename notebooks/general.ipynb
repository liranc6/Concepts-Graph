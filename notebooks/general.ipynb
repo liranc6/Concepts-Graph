{
 "cells": [
  {
   "cell_type": "code",
   "execution_count": 1,
   "metadata": {},
   "outputs": [],
   "source": [
    "import os\n",
    "import numpy as np\n",
    "import matplotlib.pyplot as plt\n",
    "import tqdm\n",
    "import torch\n",
    "import json\n",
    "import requests\n",
    "from bs4 import BeautifulSoup"
   ]
  },
  {
   "cell_type": "code",
   "execution_count": 33,
   "metadata": {},
   "outputs": [],
   "source": [
    "data_path = \"/mnt/qnap/liranc6/data/con_graph/dataset/arxiv-metadata-oai-snapshot.json\"\n",
    "subset_metadata_path = \"/mnt/qnap/liranc6/data/con_graph/dataset/subset_metadata.json\""
   ]
  },
  {
   "cell_type": "code",
   "execution_count": 22,
   "metadata": {},
   "outputs": [],
   "source": [
    "# Create a dictionary mapping shortened names of months to numerical values\n",
    "month_mapping = {\n",
    "    'Jan': 1,\n",
    "    'Feb': 2,\n",
    "    'Mar': 3,\n",
    "    'Apr': 4,\n",
    "    'May': 5,\n",
    "    'Jun': 6,\n",
    "    'Jul': 7,\n",
    "    'Aug': 8,\n",
    "    'Sep': 9,\n",
    "    'Oct': 10,\n",
    "    'Nov': 11,\n",
    "    'Dec': 12\n",
    "}"
   ]
  },
  {
   "cell_type": "code",
   "execution_count": 8,
   "metadata": {},
   "outputs": [
    {
     "name": "stdout",
     "output_type": "stream",
     "text": [
      "2459562\n"
     ]
    }
   ],
   "source": [
    "#count lines in file\n",
    "num_lines = sum(1 for line in open(data_path))\n",
    "print(num_lines)"
   ]
  },
  {
   "cell_type": "code",
   "execution_count": 9,
   "metadata": {},
   "outputs": [
    {
     "name": "stdout",
     "output_type": "stream",
     "text": [
      "['Power-Aware Scheduling\\n', 'Call-by-Name Reduction\\n', 'Debugging Techniques\\n', 'Relational Algebra Operations\\n', 'Budget-Constrained Bidding\\n', 'Infinitary Rational Relations\\n', 'Extended Euclidean Algorithm\\n', 'Multi-Agent Systems\\n', 'Self-Healing Networks\\n', 'Plane geometry properties\\n', 'Algorithmic Geometry\\n', 'Directed graph theory\\n', 'Index Coding Problem\\n', 'Wireless Handover\\n', 'Graph Coloring Problem\\n', 'Iterative Waterfilling Algorithms\\n', 'Pressure Sensors\\n', 'Software Engineering\\n', 'Network Modularity\\n', 'Economic Behaviors\\n', 'Comparative Indexing Performance\\n', 'MEMS Technology\\n', 'Efficient Estimation Methods\\n', 'Automated Spreadsheet Control\\n', 'Distributed Ledger Technology\\n', 'High SNR Regime\\n', 'Sum Capacity\\n', 'Small Training Datasets\\n', 'Network Algorithms\\n', 'Automatic Presentation Conjecture\\n', 'Vertical Implementation\\n', 'Cut-Set Bound\\n', 'Minimal Separators\\n', 'Content-Based Semantics\\n', 'Fingerprint Capacity\\n', 'Online Permutation Learning Algorithm\\n', 'Symbolic Distance\\n', 'Logarithmic-space reasoning\\n', 'User Activity Tracking\\n', 'Self-Stabilizing Systems\\n', 'Man-in-The-Middle\\n', 'Wireless Local Area Networks (WLANs)\\n', 'Statistical Methods\\n', 'Resource management\\n', 'Constant-Composition Codes\\n', 'User Behavior\\n', 'Two-Player Games\\n', 'Lattice Valued\\n', 'Linear Temporal Logic\\n', 'Congestion Control\\n', 'Quasi-Orthogonal Designs\\n', 'Rational Relations\\n', 'High Resolution Rendering\\n', 'Semi-Trusted Proxy\\n', 'Quantum Physics\\n', 'Conference Proceedings\\n', 'Rural Areas Development\\n', 'Contradiction Detection\\n', 'Noisy Dynamical Systems\\n', 'Simple Knowledge Organisation System\\n', 'Exact Solvability\\n', 'Network Analysis\\n', 'Data Type\\n', 'High Performance Computing\\n', 'Cost Reduction\\n', 'Design Automation\\n', 'Time Varying Systems\\n', 'Software Updates\\n', 'Low Power Consumption\\n', 'Substring Matching\\n', 'Programming Construct\\n', 'Discrete Memoryless Channels\\n', 'Algebraic Formulas\\n', 'Delayed Widening\\n', '3D Reconstruction\\n', 'Semantic Integration\\n', 'Text Generation\\n', 'Intraday Market Data Processing\\n', 'Enumerations\\n', 'Prolog Code Transformation\\n', 'Multipath Fading\\n', 'Human Intellect Enhancement\\n', 'Model Checking\\n', 'Knowledge Update Mechanisms\\n', 'Three-Dimensional Geometry\\n', 'MAX k-CUT equivalent\\n', 'Independent Samples\\n', 'Minor-Closed Graphs\\n', 'Minimum-Decoding-Complexity STBCs\\n', 'Computer Network Dynamics\\n', 'Abelian Categories Theory\\n', 'Computer Science Methodology\\n', 'Mathematical Notions\\n', 'Cancellation Errors\\n', 'Algebraic Normal Form\\n', 'Statistical Testing Methods\\n', 'Parameter Estimation\\n', 'Data Semantics\\n', 'Diagrammatic Reasoning\\n', 'Logic-based Methods\\n', 'Query Answering Efficiency\\n', 'Attack Resistance\\n', 'Path Problem\\n', 'Backoff Schemes\\n', 'Channel State Estimation\\n', 'Attack Prevention\\n', 'Cognitive Computing\\n', 'Microwave engineering\\n', 'Choosability Problem\\n', 'Non-Equilibrium Solutions\\n', 'Multiple Access Channel (MAC)\\n', 'E-Learning Tools\\n', 'Finite Element Analysis (FEA)\\n', 'Tiling Theory\\n', 'Fingerprint Embedding\\n', 'Bounded Arithmetic\\n', 'Formal Transformations\\n', 'B\\\\\"uchi 2-Tape Automata\\n', 'Variable Capacitor\\n', 'Edge folding\\n', 'Matrix Representation\\n', 'Formal Proof Certification\\n', 'Key Exchange\\n', 'Voice Synthesis\\n', 'Network Science\\n', 'Assembly Mode\\n', 'Polylogarithmic Function\\n', 'Interval Analysis\\n', 'Chromatic Numbers\\n', 'Active Probing\\n', 'Immune System Inspired\\n', 'Distributed Computation\\n', 'Distributed Antenna Combining\\n', 'Statistical Significance Testing\\n', 'Organizational Capabilities\\n', 'Gallager Algorithm\\n', 'Modal Analysis\\n', 'Embedded Systems\\n', 'Formal Logic Extensions\\n', 'Latent Semantic Analysis\\n', 'Half Duplex Transmission\\n', 'Micro-pump design\\n', 'Multi-Hop Communication\\n', 'One-Way Accumulator\\n', 'Prediction Problems\\n', 'Error Probability\\n', 'Formal Validation\\n', 'Induction Principle\\n', 'Multi-Dimensional Modeling\\n', 'Integration Technologies\\n', 'Saturation-Based Reasoning\\n', 'Mobius Function Calculations\\n', 'Adaptive Source Coding\\n', 'Spanning Ratio\\n', 'Name Binding\\n', \"Gleason's Theorem\\n\", 'Agent-Based Modeling\\n', 'Omega-Semigroups\\n', 'Comment Function\\n', 'Total Variation\\n', 'Navigation Techniques\\n', 'Two-Party Model\\n', 'Tutte Polynomial\\n', 'Argumentation Theory\\n', 'Probabilistic Latent Semantic Analysis\\n', 'Experimental Validation Methods\\n', 'Quantization Problem\\n', 'Agent-Based Simulation\\n', 'Textual Entailment Generation\\n', 'Preconditioning Techniques\\n', 'Sign Conditions\\n', 'Rate Distortion Function\\n', 'Structural Redundancy Detection\\n', 'Transmitter Receiver Cooperation\\n', 'Wireless Technology\\n', 'Graphical Notation\\n', 'Morphism Application\\n', 'Vertex Cover\\n', 'Ergodic capacity\\n', 'Frequency Band Sensing\\n', 'Data Structure Design\\n', 'Theoretical Computer Science\\n', 'Markovian Channels\\n', 'Security Management\\n', 'Lattice Codes\\n', 'Beam Propagation Simulation\\n', 'Balanced Functions Property\\n', 'Rim Structure Enhancement\\n', 'DPLL Heuristics\\n', 'Complexity Analysis\\n', 'Material science\\n', 'Log-Normal Distribution\\n', 'Projection Methods\\n', 'Doubly-Penalized Error Exponents\\n', 'Single Receptor Analysis\\n', 'High-Dimensional Data Analysis\\n', 'Optimal Smoothers\\n', 'Web-Centric Delivery Model\\n', 'Channel Interference Management\\n', 'Shuffle Closure\\n', \"Lieb's Result p+q<=1\\n\", 'Cell Reference Dispersion\\n', 'Monitoring\\n', 'Data Streams Processing\\n', 'Reduction semantics transition\\n', 'MIMO Channel Capacity\\n', 'Spreadsheet Tools\\n', 'Auto Regression\\n', 'Lipschitz Continuity\\n', 'Facial Recognition Systems\\n', 'Remote Surveillance\\n', 'Intuitive User Interface Design\\n', 'Counter-Based Execution\\n', 'Point Sets\\n', 'Game theory concepts\\n', 'Attribute Mapping\\n', 'Algorithmic Information Theory\\n', 'Type relationships study\\n', 'Self Stabilization\\n', 'Check Node Processing\\n', 'Irregular Code Construction\\n', 'Cardinality Constraints\\n', 'Block-Fading Channels\\n', 'Hasse Diagrams Visualization\\n', 'Best Practice Implementation\\n', 'Algorithm Implementation\\n', 'Ingleton Inequalities\\n', 'Geometric Computing\\n', 'Entropy Estimation\\n', 'Wireless Network Resource Allocation\\n', 'Natural Evolution\\n', 'Service-Oriented Architectures\\n', 'Precoder Design\\n', 'Time-Varying Channels\\n', 'Reduced Incidence Algebras\\n', 'Sign Language Recognition\\n', 'Block Diagonal Systems\\n', 'Parameter Space\\n', 'Pattern Recognition\\n', 'Program Representation\\n', 'Quantum Field Theory\\n', 'Low-Precision Quantization\\n', 'Multi-Rate Wireless Networks\\n', 'End-to-End Distortion\\n', 'Non-Symmetric Systems\\n', 'Network Connectivity\\n', 'Interval Colouring Theory\\n', 'Low Density Parity Check\\n', 'Dynamic set\\n', 'Discussion Forum Analysis\\n', 'SHA-256 Algorithm\\n', 'Computability Theory\\n', 'Edge Detection\\n', 'Computational Efficiency\\n', 'Discrete Approach\\n', 'Orthogonal Matching Pursuit\\n', 'Telemedicine\\n', 'Slow Fading Channels\\n', 'Computational Geometry\\n', 'Weighted Sampling\\n', 'Quantum Redundancy Resources\\n', 'End-User Development\\n', 'Evolutionary Programming\\n', 'Network Dynamics\\n', 'Web-Based Applications\\n', 'Euclidean Spanners\\n', 'Elliptic Curve Cryptography\\n', 'Spreadsheet Design\\n', 'Log-space algorithm design\\n', 'Instantaneous power constraint\\n', 'Intrusion Prevention\\n', 'Collaborative Software\\n', 'Selection Rules\\n', 'Programming Nature\\n', 'Polyhedral Combinatorics\\n', 'Scientometrics Analysis\\n', 'XSLT Programming\\n', 'Geometric Query Evaluation\\n', 'Robotic-Assisted Surgery\\n', 'MIMO Transmission\\n', 'Partially Ordered Sets\\n', 'Asymptotic Optimization\\n', 'Universal Decoding\\n', 'Graph Isomorphism Problem\\n', 'Data Selection\\n', 'Minimum-Cost Subgraph\\n', 'Binding Dynamics\\n', 'Non-Deterministic Systems\\n', 'Simple MST Algorithm\\n', 'Wireless Channel Modeling\\n', 'Hamming Distance Measurement\\n', 'Lil-gp Tool\\n', 'Bit String Representation\\n', 'Edge Coverage\\n', 'Lower Bound\\n', 'Comparative Study Analysis\\n', 'Partial Cover Problem\\n', 'Maximum Ratio Combining\\n', 'Code Smell Detection\\n', 'Computational Model\\n', 'Programming Language\\n', 'Binary Erasure Channels\\n', 'Symmetric Tensors\\n', 'Cell Mapping Concept\\n', 'Spatial Data Management\\n', 'Contextual Learning\\n', 'Authority Files\\n', 'Interference Modeling\\n', 'Information Integration\\n', 'Hard Coding Detection\\n', 'Jump-Shift Instructions\\n', 'API Design\\n', 'Universality of KoDAGs Discovery\\n', 'Min Max Algorithm\\n', \"Pearson's Chi-Squared Test\\n\", 'Linguistic Attribute Selection\\n', 'Weighted Graph Embeddings\\n', 'Asymmetric Systems\\n', 'Risk Mitigation\\n', 'Research Output Analysis\\n', 'Logspace Reduction\\n', 'Electrostatic Positioning\\n', 'System F\\n', 'Electronic Passports\\n', 'Global Design Issues\\n', 'System Processing Gain\\n', 'DNA Encryption\\n', 'Substrate integrated waveguides\\n', 'Information Asymmetry\\n', 'Digital Mode Operation\\n', 'Biomedicine\\n', 'Actuators\\n', 'Calculus\\n', 'Asynchronous Iterative Algorithm\\n', 'Distributed Computing\\n', 'Anonymous Networks\\n', 'Network Performance Optimization\\n', 'Grapheme Phoneme Mapping\\n', 'Phylogenetic Inference\\n', 'Integrated Circuits\\n', 'Polynomial Equations\\n', 'Decimation Strategy\\n', 'Borosilicate Glass Etching\\n', 'Packaging Methods\\n', 'Programming Models\\n', 'Utility Maximization\\n', 'Ergodic Channel\\n', 'Data Integrity Issues\\n', 'Spreadsheet Error Type Awareness\\n', 'Computational Modeling Tools\\n', 'Finite Element Method\\n', 'Uplink/Downlink Duality\\n', 'Collective Certificates\\n', 'Transition Optimization\\n', 'Domain Specific Languages\\n', 'Database Query Languages\\n', 'Service Oriented Architecture\\n', 'Quantum Classical Connection\\n', 'Linear Operators\\n', 'Resource Pricing\\n', 'Data Storage\\n', 'Polygon Partitioning\\n', 'Undirected Graphs\\n', 'Investment Strategies\\n', 'Computer science theory\\n', 'Distance-Based Methods\\n', 'P2P network partitioning\\n', 'Solution Optimization Algorithm\\n', 'Intelligence Measurement Methods\\n', 'Multi-Dimensional Data\\n', 'Power Conversion\\n', 'Ideal Semiring\\n', 'Composition Theorem\\n', 'Spreadsheet Security\\n', 'Combinatorial Prediction Markets\\n', 'Quasicrystals\\n', 'Web Navigation\\n', 'Superposition Coding\\n', 'Formal specification\\n', 'Computerized Tool\\n', 'Spreading Activation\\n', 'Perfect Secrecy Systems\\n', 'Security and Trust Models\\n', 'Resource Constrained Networks\\n', 'Exposed Node Problem\\n', 'Single source shortest path\\n', 'Sparse signal recovery\\n', 'Conjugate Recognition\\n', 'Computational Tasks\\n', 'Real-Time Processing\\n', 'Resource Allocation\\n', 'Erasure Correction\\n', 'Accessibility Standards\\n', 'Fiber Coupling Optimization\\n', 'Deterministic Rules\\n', 'Bit Generation Techniques\\n', 'Session Control\\n', 'Call Admission Control\\n', 'Weighted Graph Sparsification\\n', 'Material Property Measurement\\n', 'Open-Source Database Systems\\n', 'Quantum Systems\\n', 'Profit Maximization\\n', 'Nurse Scheduling Problem\\n', 'Calcein Release\\n', 'Additively Weighted Geometry\\n', 'Wavelet Transform\\n', 'Parametrization Methods\\n', 'Thin Film Deposition\\n', 'Bioclimate Modeling\\n', 'Key generation\\n', 'Server Saturation\\n', 'Information Technology\\n', 'Non-Deterministic Complexity\\n', 'Human Intelligence\\n', 'Path-width measures\\n', 'Pseudorandom Function-Based Key Linking\\n', 'Projective Geometry\\n', 'Economic Dynamics\\n', 'PT-DFA Minimization\\n', 'Dimensionality Reduction\\n', 'Computational Framework\\n', 'Submanifold Retrieval\\n', 'Renyi-Tsallis Distributions\\n', 'Language Models\\n', 'Discovery Method\\n', 'Nearly-Linear Time Complexity\\n', 'Large-Scale Networks\\n', 'Ergodic Processes\\n', 'Braid Arrangement Solution\\n', 'K-Partite Graphs\\n', 'Medical Imaging\\n', 'Root Mean Square Error\\n', 'Weak Recognizability\\n', 'Supercomputing Infrastructure\\n', 'Public Key Cryptography\\n', 'Positional Determination\\n', 'Link Scheduling\\n', 'Computational Devices\\n', 'Infinite Families of Codes\\n', 'Check Matrix Generation\\n', 'Frameproof Codes\\n', 'Computational Neuroscience\\n', 'Satisfiability problem\\n', 'University Administration\\n', 'Expected Time\\n', 'Distributed Intelligence Mechanism\\n', 'Meet-in-the-middle attack\\n', 'Text Recognition\\n', 'Customer evolution\\n', 'Markov Chain Mixing\\n', 'Symbolic Time Series Analysis\\n', 'Linear Code Ensembles\\n', 'Lambda Terms\\n', 'Data Concealment\\n', 'Wireless Access Points\\n', 'Confidentiality Preserving\\n', 'Totalized Models\\n', 'Human-Computer Dialogue\\n', 'Self-Organizing Protocols\\n', 'Space-Time Block Codes\\n', 'Dempster-Shafer Theory\\n', 'Morphing Algorithm\\n', '2D Numerical Hydraulic Model\\n', 'Model Integrity Control\\n', 'Gumbel Distribution\\n', 'Discrete Time Channels\\n', 'Measure and Conquer\\n', 'Grid Partitioning\\n', 'LLR Domain Implementation\\n', 'Planar DAG Path Length\\n', 'Density of Sets\\n', 'Collusion Attacks\\n', 'MIMO Channels\\n', 'Dimension Blowup\\n', 'Entailment Transformation\\n', 'Radioactive Seed Placement\\n', 'Model checking\\n', 'Data Compression Algorithms\\n', 'Computational Biology\\n', 'AIS-CF Hybrid System\\n', 'Prostate Biopsy\\n', 'Piecewise Linear\\n', 'Bargaining Problems\\n', 'Decoder Complexity\\n', 'Multi-Objective Optimization\\n', 'Cancer Treatment Methods\\n', 'Clause Deletion\\n', 'Feedback Noise Shaping\\n', 'Finite State Machines\\n', 'Sensors Technology\\n', 'Quality of Service (QoS)\\n', 'Determinization\\n', 'Gain Stability\\n', 'Replica Method Application\\n', 'Humidity Measurement\\n', 'Graph Coloring\\n', 'Characterization Problem\\n', 'Multiplayer games theory\\n', 'Data Assimilation\\n', 'Band-Limited Signals\\n', 'Movie Recommendation Systems\\n', 'Matlab Modeling\\n', 'Logic Program Analysis Tool\\n', 'Minimum Vertex Movement\\n', 'Data Privacy\\n', '3D Span Optimization\\n', 'Low-redundancy codes\\n', 'Thermal Analysis\\n', 'Compress and Forward Strategy\\n', 'Underwater Acoustic Channel Modeling\\n', 'Auctioneer Control\\n', 'Random k-SAT Problem\\n', 'Prefab Notions\\n', 'Curse of Dimensionality\\n', 'Single-User Detection\\n', 'Quantum Circuit Distinguishability\\n', 'Weakness Detection\\n', 'Feature Selection\\n', 'Autonomy and Reliability\\n', 'Internet2\\n', 'Direct Methods\\n', 'Financial Data Management\\n', 'Data Linkage\\n', 'Robust Broadcasting Schemes\\n', 'Planar subdivisions\\n', 'Word Decomposition\\n', 'DRIE Fabrication Process\\n', 'Partial Replication\\n', 'Graphical User Interface\\n', 'Path Length Analysis\\n', 'Multimorph Bending Actuators\\n', 'Min Sum Algorithm\\n', 'Simple Gene Assembly\\n', 'Edge Crossing Elimination\\n', 'RDF Resource Integration\\n', 'Zero-Knowledge Proofs\\n', 'Cryptography Fundamentals\\n', 'Graph Connectivity Measures\\n', 'Poly-threading\\n', 'Graph Approximation\\n', 'Nonlinear Systems\\n', 'Atmospheric Modeling\\n', 'Component Analysis\\n', 'Interference Channels\\n', 'Multi-Armed Bandit Problem\\n', 'Algebraic Matrix Theory\\n', 'Neighborhood Structure\\n', 'Interaction Modelling\\n', 'Induction Over Natural Numbers\\n', 'Public Key\\n', 'Model Predictive Control\\n', 'Dynamic program composition\\n', 'Credit Default Swap\\n', 'Orthogonal Channels\\n', 'Epistemic Uncertainty\\n', 'Remote Access Control\\n', 'Motion JPEG\\n', 'Identifiability\\n', 'Paper Spreadsheets\\n', 'Consensus Protocols\\n', 'Channel Capacity\\n', 'Matrix Optimization Strategies\\n', 'Computational Logic\\n', 'Large Number of Users\\n', 'Spreadsheet Error-Checking\\n', 'Chemical Graph Theory\\n', 'Transversal Intersections\\n', 'Separating Pairs Graphs\\n', 'Bregman Divergences\\n', 'Baldwin Effect\\n', 'Network Evolution\\n', 'Probability Theory Applications\\n', 'Polylogarithmic Complexity\\n', 'Auditing Techniques\\n', 'Security Concerns\\n', 'Auditing Tools\\n', 'Frequent Itemsets\\n', 'Elastic Deflection Model\\n', 'Pulse Coupled Systems\\n', 'Timing Offset Estimation\\n', 'Proof Assistant\\n', 'Massive datasets\\n', 'Clustering Coefficient\\n', 'Quantum computing\\n', 'Fragmented Programs\\n', 'Hybrid Optimization\\n', 'Computational mathematics\\n', 'Energy Consumption Reduction\\n', 'Traffic Analysis\\n', 'Explicit Solvability Methods\\n', 'Churn Management\\n', 'Fitness landscapes\\n', 'Graph Embedding\\n', 'Heuristic Methods\\n', 'Gaussian Noise Modeling\\n', 'Binding-Blinding\\n', 'Chemical Reaction Dynamics\\n', 'Trackball Control\\n', 'Equational Reasoning\\n', 'Gaussian Modulation\\n', 'Chromatic number computation\\n', 'MEMS Prototyping\\n', 'Graph Embeddings\\n', 'Category Theory\\n', 'Supertree construction\\n', 'Platform Security\\n', 'Array-Based Partitioning\\n', 'Overlap Graph\\n', 'Prefab Sets\\n', 'Linear Time Complexity\\n', 'Pi^0_2-Subsets\\n', 'Synchronizer Element\\n', 'Episturmian Words\\n', 'Multicast Capacity\\n', 'Volume Rendering\\n', 'Transmission Systems\\n', 'Autonomic Learning\\n', 'Rule-Based Reasoning\\n', 'Multilayer Perceptron Extensions\\n', 'Fluctuation Theory\\n', 'Deterministic Broadcasting\\n', 'System Integration Challenges\\n', 'Nonradiative dielectric waveguides\\n', 'Authentication Theory\\n', 'Decidable Winning Conditions\\n', 'Randomization Techniques\\n', 'Stirling Matrices\\n', 'Low-Rank Decomposition\\n', 'Vertex-Induced Subgraphs\\n', 'Orthogonal Frequency Division Multiplexing\\n', 'Traffic Management\\n', 'Convolutional Coding\\n', 'Cooperative Optimization\\n', 'Planar Mechanisms\\n', 'Adversarial Networks\\n', 'Bottleneck Optimization\\n', 'Nine Neighbor Hood\\n', 'Training and Development\\n', 'Formal Semantics\\n', 'Factorization\\n', 'Non-Causal Systems\\n', 'Welch Bound Equality Sequences\\n', 'Graph Optimization Problem\\n', 'Vacuum Packaging\\n', 'Sorting Algorithms\\n', 'Piezoresistive Transducers\\n', 'Error-Correcting Code Design\\n', '3D Geometry\\n', 'Wireless networks\\n', 'Formal Deduction Rules\\n', 'Finite Automata\\n', 'Deterministic Algorithm Optimization\\n', 'Mobile Devices\\n', 'Identity Theft Prevention\\n', 'Sequential Design Approach\\n', 'Moments of Distributions\\n', 'Multiple Access Networks\\n', 'Fibonacci Index\\n', 'Reference Branching Condition\\n', 'Genetic Code\\n', 'Dynamic Scheduling Problem\\n', 'Gesture Recognition Systems\\n', 'Cyber Terrorism\\n', 'Agent Communication\\n', 'Two-Party Protocols\\n', 'Gapless Linear Programming Relaxation\\n', 'Information transmission\\n', 'Transmission Rates\\n', 'Edge Connectivity\\n', 'Time-Invariant Systems\\n', 'Lower Bounds\\n', 'Quantum LDPC Codes\\n', 'Recursion\\n', 'Recurring Semantics\\n', 'Weighted Graph Theory\\n', 'Distributed Model Predictive Control (DMPC)\\n', 'Precedence Constraints\\n', 'Sampling Conditions\\n', 'Digital Image Processing\\n', 'Space Curve Analysis\\n', 'Error Modeling\\n', 'Separator Decomposition\\n', 'NP-hard problems\\n', 'Data Integrity\\n', 'Cell Movement\\n', 'Omega Context Free Languages\\n', 'Staging Algorithm Optimization\\n', 'Error Protection\\n', 'Language Dynamics Analysis\\n', 'Genoids\\n', 'Type Theory\\n', 'Room Temperature Packaging\\n', 'Microelectrode Design\\n', 'Jump Instructions\\n', 'Directed Acyclic Graphs DAGs\\n', 'Analytic Sets Theory\\n', 'Function Iterators\\n', 'Binomial Coefficients\\n', 'Network Diameter\\n', 'Cache Management\\n', 'Maximum Distance Separable\\n', 'Classical Capacity\\n', 'Gaussian Channel Coding\\n', 'Time Series Modeling\\n', 'Shared memory model\\n', 'Axiomatic Approach\\n', 'Regular Language Theory\\n', 'Law-Based Systems\\n', 'Latent Space Modeling\\n', 'Complexity analysis\\n', 'Formal language theory\\n', 'Combinatorial Optimisation\\n', 'Implementation complexity\\n', 'Code Reuse\\n', 'Two-Person Games\\n', 'Capacity Bounds\\n', 'Cross-Entropy Method\\n', 'Cryptographic Collisions\\n', 'Curvelet Transform\\n', 'Information Theory Concepts\\n', 'Sign Language Tutoring Systems\\n', 'Subcarrier Clustering\\n', 'Measurement Tools\\n', 'Repair Bandwidth Optimization\\n', 'Dataflow Information\\n', 'Chien Search Algorithm\\n', 'Blue Gene Architecture\\n', 'Nondeterministic Interpreters\\n', 'Prime Number Properties\\n', 'Quantum Aliasing Analysis\\n', 'Cache-Oblivious model\\n', 'Business Intelligence\\n', 'Alternative Input Methods\\n', 'Primary Numbers\\n', 'Transport Stream Transmission\\n', 'Shift Groups\\n', 'Accessibility Design\\n', 'Transmission Optimization\\n', 'Capacity Upper Bound\\n', 'Wireless Networking Fundamentals\\n', 'Text Classification Algorithms\\n', 'Tuple Embedding\\n', 'Authentication Scheme\\n', 'Minimum length paths\\n', 'Secure Boot Mechanisms\\n', 'Fairness Metrics\\n', 'Connection Concept\\n', 'Coding Scheme Optimization\\n', 'Optimality Bounds\\n', 'Non-Distributive Lattices\\n', 'Language Relativity\\n', 'Continuity Problem\\n', 'Generating Functions\\n', 'Quasi-Large Random-Sequence CDMA (QLRS-CDMA)\\n', 'Sum Capacity Bounds\\n', 'Internet Path Analysis\\n', 'Data Maintenance\\n', 'Zero-knowledge proof schemes\\n', 'Decision Trees\\n', 'Sauer-Shelah Result\\n', 'Evolutionary Computing\\n', 'Error Detection\\n', 'Mass-Spring Resonance\\n', 'Nanoscale Sensing\\n', 'ID3 Algorithm\\n', 'Flexible Microgenerators\\n', 'Intermediate Reference Location\\n', 'Decimation Procedure\\n', 'Constraint Arity\\n', 'Space-Time Channel Coding\\n', 'Array Operations\\n', 'Multiple Notations Encoding\\n', 'Model Validation Techniques\\n', 'Cryptography Techniques\\n', 'NL and SC Classes\\n', 'Heat Pipe Design\\n', 'Planar Graphs\\n', 'Spectral Space Methods\\n', 'Cognitive Transmitter Receiver\\n', 'Link Scheduling Techniques\\n', 'Random Binning Schemes\\n', 'Artificial Life\\n', 'Cellular communication\\n', 'Term Vagueness\\n', 'Wishart Matrices\\n', 'Hsiao Code Algorithm\\n', 'HB+ Protocol\\n', 'Typed Name Binding\\n', 'Tree Structures\\n', 'Temperature-Dependent Assembly\\n', 'Lattice Point Problems\\n', 'Equilibrium Distribution\\n', 'Hermitian Hypersurfaces\\n', 'Computationally-Efficient Optimization Formulations\\n', 'Large Scale Data Processing\\n', 'Numerical Accessibility\\n', 'Code Analysis\\n', 'Myopic Policy Optimization\\n', 'Protocol Parameters\\n', 'Time-Frequency Analysis\\n', 'Meduso-Anthropic Principle\\n', 'SOM Partitioning Scheme\\n', 'Data Analysis Techniques\\n', 'Quantum Readout\\n', 'Multiple Access\\n', 'Frame Error Rate\\n', 'Channel Machines\\n', 'Micro-Optics Fabrication\\n', 'System Level Design\\n', 'Optimization Problems Formulation\\n', 'Membership Problem\\n', 'Gaussian Distribution\\n', 'Communication Delay Modeling\\n', 'Proof Nets\\n', 'Shannon Capacity\\n', 'CoM Framework\\n', 'Analog to Digital Conversion\\n', 'Quality Assessment\\n', 'Graph Polynomials\\n', 'Mean Square Error Constraints\\n', 'Routing Protocols Design\\n', 'Computer Vision Applications\\n', 'Real Traces Analysis\\n', 'Recurrent Systems\\n', 'Assistive Technology\\n', 'Efficiency gap in cryptography\\n', 'E-Services Evaluation\\n', 'Capacity Region Boundaries\\n', 'Quantum Error Control\\n', 'Program Verification Techniques\\n', 'Crossdock Centre Operations\\n', 'Binary Representation\\n', 'Additive FPT Algorithm Design\\n', 'Partial Least Squares\\n', 'Approximation theory\\n', 'Quantizer Design\\n', 'Rational Language Recognition\\n', 'Density Matrix Reconstruction\\n', 'Biodegradable Materials\\n', 'Abstract Syntax\\n', 'Thermal Elastic Model\\n', 'Algorithm Optimization\\n', 'Software Engineering Process\\n', 'Linear Codes\\n', 'Code Design Parameters\\n', 'Author Profiling\\n', 'Mechanical Production\\n', 'Star Topology Networks\\n', 'Modulo-Lattice Modulation\\n', 'Factorization Problem\\n', 'Power Dominating Set Problem\\n', 'Regular Languages\\n', 'Navy Requirements\\n', 'Evolving Knowledge Representation\\n', 'Service Migration\\n', 'Optical Waveguide Design\\n', 'Movie Recommendation\\n', 'Metatheory Proofs\\n', 'Self-Correlation Analysis\\n', 'Business Process Improvement\\n', 'Separation Algorithms\\n', 'Assembly Languages\\n', 'Discrete Memoryless Channel\\n', 'PLM System Enhancement\\n', 'Manifold Theory\\n', 'Information Rate\\n', 'Intersection Problem\\n', 'Decentralized Commitment Algorithm\\n', 'Asymptotic Performance Analysis\\n', 'Conjecture Proof Method\\n', 'Exponential Time Complexity\\n', '0/1-Polyhedra\\n', 'Oculus Excel Visualizer\\n', 'Algebraic Data Types\\n', 'Parallel Decoding\\n', 'Interference Cancellation\\n', 'Probabilistic Schemes\\n', 'Multicore Processing\\n', 'Graph algorithms\\n', 'Transcritical Bifurcation\\n', 'Job Flow Analysis\\n', 'Extended coherent states\\n', 'Error Correction Codes\\n', 'Critical Exponents\\n', 'Educational Communication\\n', 'Matrix Perspective\\n', 'Available Bandwidth Calculation\\n', 'n-Cubes\\n', 'Impagliazzo-Rudich Attack\\n', 'Humidity Sensing\\n', 'Quality Factor\\n', 'Borel Sets\\n', 'Turing Test Derivatives\\n', 'Poset Algebraic Structures\\n', 'Dynamic Voltage Scaling\\n', 'Rotated Space-Time Codes\\n', 'Algorithm Analysis\\n', 'Digital Communications\\n', 'Spreadsheet Analysis\\n', \"Master's Programs\\n\", 'Interactive Cartography\\n', 'Flat Network Structure\\n', 'Frequency Analysis\\n', 'Hierarchical Code Ensembles\\n', 'Edge Insertion\\n', 'MEMS Devices\\n', 'Knowledge Organisation\\n', 'Normalized Excess Variables\\n', 'Multimode precoding\\n', 'Noisy Input Handling\\n', 'Enterprise data management\\n', \"Forney's Formula\\n\", 'Integrated Circuit Fabrication\\n', 'Polynomial Theory\\n', 'Authentication Protocols\\n', 'Logistics Optimization\\n', 'NLML (Natural Language Modeling Language)\\n', 'Colorability Problems\\n', 'Bicriteria Optimization\\n', 'System Specification\\n', 'Asymmetric Key Cryptography\\n', 'Differential Privacy\\n', 'Reserved-Length Coding\\n', 'Data Reconstruction\\n', 'Graph Drawing Optimization\\n', 'Indirect object representation\\n', 'Online Decision Making\\n', 'Authentication Schemes\\n', 'AIS Algorithm Walkthrough\\n', 'Mathematical Context\\n', 'Higher Dimensional\\n', 'Near Neighbor Interactions\\n', 'Wyner-Ziv Codes\\n', 'Program Algebra\\n', 'Stolen Verifier Protection\\n', 'Gram Matrix Analysis\\n', 'B\\\\\"uchi Acceptance\\n', 'Interacting Agents\\n', 'Low Temperature Embossing\\n', 'Cech Complex Filtration\\n', 'In-Trees\\n', 'AWGN Channels\\n', 'Semantic Modeling\\n', 'Multi-Processor System Design\\n', 'Cooperative transmission\\n', 'Iterative Averaging\\n', 'Factorization Techniques\\n', 'Sigma Composition\\n', 'Middleware-Based Database Replication\\n', 'Succinctness Measures\\n', 'Data Analysis\\n', 'Linear Time Varying Channels\\n', 'Efficient Model Calculation\\n', 'Secure Coding Schemes\\n', 'Array Processing\\n', 'Entropy Maximization\\n', 'Prime Number Distribution\\n', 'Pearson Correlation\\n', 'Computer Simulations\\n', 'Natural Deduction\\n', 'Delay-based Method\\n', 'Algorithm Comparison\\n', 'Finite Field Arithmetic\\n', 'Transposition Cipher\\n', 'Cobweb Poset Construction\\n', 'Term Replacement\\n', 'Self Assembly\\n', 'Dynamic Partitioning\\n', 'Air Gap Structure Optimization\\n', 'Error Measurement\\n', 'Binding Constructs\\n', 'Program synthesis\\n', 'Weighted Case Assignment\\n', 'Data Mining Techniques\\n', 'Gaussian Sources\\n', 'Focused Ion Beam Milling\\n', 'Quality of Service Requirements\\n', 'Conformal Mapping\\n', 'Kuratowski Graph\\n', 'Gaussian Noise\\n', 'Threshold Systems\\n', 'Affine Geometry\\n', 'Plane Embeddings\\n', 'Optical Switching\\n', 'Insertion Errors\\n', 'Circuit Design\\n', 'Two-User Channel\\n', 'XQuery Language\\n', 'q-extensions formulas\\n', 'Channel Statistics\\n', 'Query Optimization Algorithm\\n', 'Feferman-Vaught Formalism\\n', 'Partial Recursive Functions\\n', 'User Verification\\n', 'Network Delay\\n', 'Lexicographic Ordering\\n', 'Linear Code Decoding\\n', 'Asymmetric Cryptography\\n', 'Anonymous Games\\n']\n"
     ]
    }
   ],
   "source": [
    "corpus_path = \"/home/liranc6/con_graph/corpus.txt\"\n",
    "\n",
    "#read first 500 lines\n",
    "with open(corpus_path, 'r') as f:\n",
    "    lines = f.readlines()\n",
    "    print(lines[1000:3000])"
   ]
  },
  {
   "cell_type": "code",
   "execution_count": 14,
   "metadata": {},
   "outputs": [
    {
     "name": "stdout",
     "output_type": "stream",
     "text": [
      "Backpropagation Algorithm\n",
      "\n"
     ]
    }
   ],
   "source": [
    "for line in lines:\n",
    "    if \"Backpropagation\" in line:\n",
    "        print(line)\n"
   ]
  },
  {
   "cell_type": "code",
   "execution_count": 4,
   "metadata": {},
   "outputs": [
    {
     "name": "stdout",
     "output_type": "stream",
     "text": [
      "Minimum by first element: [3, 2006]\n",
      "Minimum by second element: [8, 1990]\n",
      "First by second element: [3, 2006]\n",
      "First by first element: [3, 2006]\n"
     ]
    }
   ],
   "source": [
    "data = [[5, 2004], [3, 2006], [8, 1990], [6, 1990]]\n",
    "\n",
    "# Find the minimum by the first element\n",
    "min_by_first = min(data)\n",
    "print(\"Minimum by first element:\", min_by_first)\n",
    "\n",
    "# Find the minimum by the second element\n",
    "min_by_second = min(data, key=lambda x: x[1])\n",
    "print(\"Minimum by second element:\", min_by_second)\n",
    "\n",
    "# Find the first by the second element\n",
    "first_by_second = min(sorted(data, key=lambda x: x[1]))\n",
    "print(\"First by second element:\", first_by_second)\n",
    "\n",
    "# Find the first by the first element\n",
    "first_by_first = min(data)\n",
    "print(\"First by first element:\", first_by_first)"
   ]
  }
 ],
 "metadata": {
  "kernelspec": {
   "display_name": "con_graph",
   "language": "python",
   "name": "python3"
  },
  "language_info": {
   "codemirror_mode": {
    "name": "ipython",
    "version": 3
   },
   "file_extension": ".py",
   "mimetype": "text/x-python",
   "name": "python",
   "nbconvert_exporter": "python",
   "pygments_lexer": "ipython3",
   "version": "3.9.19"
  }
 },
 "nbformat": 4,
 "nbformat_minor": 2
}
